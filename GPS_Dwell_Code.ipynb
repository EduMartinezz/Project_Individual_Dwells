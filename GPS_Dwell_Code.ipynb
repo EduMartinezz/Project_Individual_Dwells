{
 "cells": [
  {
   "cell_type": "code",
   "execution_count": null,
   "id": "5bca8c5c",
   "metadata": {},
   "outputs": [],
   "source": [
    "import pandas as pd\n",
    "import matplotlib.pyplot as plt\n",
    "import geopandas as gpd\n",
    "import numpy as np\n",
    "import seaborn as sns\n",
    "from datetime import timedelta\n",
    "from sklearn.cluster import DBSCAN\n",
    "from sklearn.cluster import KMeans\n",
    "from collections import defaultdict"
   ]
  },
  {
   "cell_type": "code",
   "execution_count": null,
   "id": "e7a7fd80",
   "metadata": {},
   "outputs": [],
   "source": [
    "#importing the data\n",
    "gps_data = pd.read_csv('https://gps-london.s3.eu-west-2.amazonaws.com/gps.csv')\n",
    "gps_data.head()"
   ]
  },
  {
   "cell_type": "code",
   "execution_count": null,
   "id": "6c36e883",
   "metadata": {},
   "outputs": [],
   "source": [
    "#checking the data for cleaning and preprocessing\n",
    "gps_data.dtypes"
   ]
  },
  {
   "cell_type": "code",
   "execution_count": null,
   "id": "b2ae00c2",
   "metadata": {},
   "outputs": [],
   "source": [
    "gps_data['user_id'].unique()"
   ]
  },
  {
   "cell_type": "code",
   "execution_count": null,
   "id": "d88985a7",
   "metadata": {},
   "outputs": [],
   "source": [
    "gps_data.describe()"
   ]
  },
  {
   "cell_type": "code",
   "execution_count": null,
   "id": "78fe6b3e",
   "metadata": {},
   "outputs": [],
   "source": [
    "#checking for duplicate values\n",
    "duplicate = gps_data.duplicated()\n",
    "duplicate"
   ]
  },
  {
   "cell_type": "code",
   "execution_count": null,
   "id": "2836557d",
   "metadata": {},
   "outputs": [],
   "source": [
    "[gps_data['lat'].value_counts()]"
   ]
  },
  {
   "cell_type": "code",
   "execution_count": null,
   "id": "2a342083",
   "metadata": {},
   "outputs": [],
   "source": [
    "[gps_data['lon'].value_counts()]"
   ]
  },
  {
   "cell_type": "code",
   "execution_count": null,
   "id": "1bc8f933",
   "metadata": {},
   "outputs": [],
   "source": [
    "[gps_data['user_id'].value_counts()]"
   ]
  },
  {
   "cell_type": "code",
   "execution_count": null,
   "id": "31513ff7",
   "metadata": {},
   "outputs": [],
   "source": [
    "#checking for missing values\n",
    "gps_data.isnull().sum()"
   ]
  },
  {
   "cell_type": "code",
   "execution_count": null,
   "id": "d05bcfbe",
   "metadata": {},
   "outputs": [],
   "source": [
    "#Converting the 'datetime' column to datetime format\n",
    "gps_data['datetime'] = pd.to_datetime(gps_data['datetime'])"
   ]
  },
  {
   "cell_type": "code",
   "execution_count": null,
   "id": "7174da01",
   "metadata": {},
   "outputs": [],
   "source": [
    "#Sorting the DataFrame by user_id and datetime\n",
    "gps_data.sort_values(by=['user_id', 'datetime'], inplace=True)\n",
    "\n",
    "#Calculating the time differences between consecutive rows for each user\n",
    "gps_data['time_diff'] = gps_data.groupby('user_id')['datetime'].diff()\n",
    "\n",
    "#Setting a threshold for dwell time ( 10 minutes)\n",
    "dwell_threshold = timedelta(minutes=10)\n",
    "\n",
    "# Identify and filter out data points where time difference exceeds the dwell threshold\n",
    "clean_data = gps_data[gps_data['time_diff'].fillna(pd.Timedelta(0)) < dwell_threshold]\n",
    "\n",
    "# Dropping the temporary 'time_diff' column\n",
    "clean_data = clean_data.drop(columns=['time_diff'])\n",
    "# Display the cleaned DataFrame\n",
    "print(clean_data)"
   ]
  },
  {
   "cell_type": "code",
   "execution_count": null,
   "id": "2239a63a",
   "metadata": {},
   "outputs": [],
   "source": [
    "from sklearn.cluster import DBSCAN\n",
    "\n",
    "# Initializing a DataFrame to store DBSCAN clustering results for all users\n",
    "dbscan_clustered_data = pd.DataFrame()\n",
    "\n",
    "# Setting the epsilon and minimum samples based on the characteristics of your data\n",
    "epsilon_dbscan = 0.0005 \n",
    "min_samples_dbscan = 5    \n",
    "\n",
    "for user_id in clean_data['user_id'].unique():\n",
    "    \n",
    "    # Extracting data for the current user\n",
    "    user_data = clean_data[clean_data['user_id'] == user_id].copy()  # Make a copy to avoid SettingWithCopyWarning\n",
    "\n",
    "    # Extracting lat and lon columns for clustering\n",
    "    coordinates = user_data[['lat', 'lon']]\n",
    "    \n",
    "    # Applying DBSCAN clustering\n",
    "    dbscan = DBSCAN(eps=epsilon_dbscan, min_samples=min_samples_dbscan)\n",
    "    user_data.loc[:, 'dbscan_cluster'] = dbscan.fit_predict(coordinates)\n",
    "    \n",
    "    # Concatenate the clustered user_data to the overall dbscan_clustered_data\n",
    "    dbscan_clustered_data = pd.concat([dbscan_clustered_data, user_data])\n",
    "\n",
    "\n"
   ]
  },
  {
   "cell_type": "code",
   "execution_count": null,
   "id": "8f33b44d",
   "metadata": {},
   "outputs": [],
   "source": [
    "# Plotting the DBSCAN clustered data \n",
    "for user_id in dbscan_clustered_data['user_id'].unique():\n",
    "    user_data_dbscan = dbscan_clustered_data[dbscan_clustered_data['user_id'] == user_id]\n",
    "    \n",
    "    plt.figure(figsize=(10, 6))\n",
    "    plt.scatter(user_data_dbscan['lon'], user_data_dbscan['lat'], c=user_data_dbscan['dbscan_cluster'], cmap='viridis', marker='o')\n",
    "    plt.title(f'DBSCAN Clustered GPS Data - User {user_id}')\n",
    "    plt.xlabel('Longitude')\n",
    "    plt.ylabel('Latitude')\n",
    "    plt.show()"
   ]
  },
  {
   "cell_type": "code",
   "execution_count": null,
   "id": "8d476d84",
   "metadata": {},
   "outputs": [],
   "source": [
    "#Finding the individual dwells for dbscan\n",
    "# Initialize a dictionary to store dwell frequencies for each user and each DBSCAN cluster\n",
    "dwell_frequencies_dbscan = defaultdict(list)\n",
    "\n",
    "# Iterate through each user\n",
    "for user_id in dbscan_clustered_data['user_id'].unique():\n",
    "    # Extract data for the current user\n",
    "    user_data_dbscan = dbscan_clustered_data[dbscan_clustered_data['user_id'] == user_id]\n",
    "\n",
    "    # Identify dwell times for each DBSCAN cluster\n",
    "    cluster_counts_dbscan = user_data_dbscan['dbscan_cluster'].value_counts().sort_index()\n",
    "    dwell_frequencies_dbscan[user_id].extend(cluster_counts_dbscan.tolist() + [0] * (len(set(user_data_dbscan['dbscan_cluster'])) - 1))\n",
    "\n"
   ]
  },
  {
   "cell_type": "code",
   "execution_count": null,
   "id": "7b866490",
   "metadata": {},
   "outputs": [],
   "source": [
    "\n",
    "# Creating DataFrame to store dwell times for DBSCAN\n",
    "dwell_times_dbscan = pd.DataFrame.from_dict(dwell_frequencies_dbscan, orient='index').T\n",
    "dwell_times_dbscan['user_id'] = dwell_times_dbscan.index\n",
    "\n",
    "# Calculating time differences between consecutive rows for each user\n",
    "dwell_times_dbscan['time_diff'] = dwell_times_dbscan.groupby('user_id')['datetime'].diff()\n",
    "\n",
    "# Calculating dwell duration for DBSCAN\n",
    "dwell_times_dbscan['dwell_duration'] = dwell_times_dbscan.max(axis=1) * time_diff\n",
    "\n",
    "# Filtering out clusters representing movement based on minimum dwell duration\n",
    "min_dwell_duration = pd.Timedelta(minutes=10)  \n",
    "valid_dwells_dbscan = dwell_times_dbscan[dwell_times_dbscan['dwell_duration'] >= min_dwell_duration]\n"
   ]
  },
  {
   "cell_type": "code",
   "execution_count": null,
   "id": "f0a9e7aa",
   "metadata": {},
   "outputs": [],
   "source": [
    "# Iterating through each user\n",
    "for user_id in valid_dwells_dbscan['user_id'].unique():\n",
    "    # Extract valid dwells data for the current user\n",
    "    user_valid_dwells_dbscan = valid_dwells_dbscan[valid_dwells_dbscan['user_id'] == user_id]\n",
    "\n",
    "    # Print estimated individual dwells for the current user using DBSCAN\n",
    "    print(f\"Estimated Individual Dwells for User {user_id} - DBSCAN:\")\n",
    "    print(user_valid_dwells_dbscan[['min', 'max', 'dwell_duration']])\n",
    "    print(\"\\n\")\n"
   ]
  },
  {
   "cell_type": "code",
   "execution_count": null,
   "id": "00f62b1f",
   "metadata": {},
   "outputs": [],
   "source": [
    "# Print dwell duration statistics for DBSCAN\n",
    "print(\"Dwell Duration Statistics - DBSCAN:\")\n",
    "print(valid_dwells_dbscan['dwell_duration'].describe())"
   ]
  },
  {
   "cell_type": "code",
   "execution_count": null,
   "id": "fbfeacfc",
   "metadata": {},
   "outputs": [],
   "source": [
    "# Initialize a DataFrame to store k-means clustering results for all users\n",
    "kmeans_clustered_data = pd.DataFrame()\n",
    "# Extract lat and lon columns for clustering\n",
    "coordinates = clean_data[['lat', 'lon']]\n",
    "\n",
    "# Using the Elbow Method to determine the optimal number of clusters\n",
    "inertias = []\n",
    "K_range = range(1, 21)\n",
    "for k in K_range:\n",
    "    kmeans = KMeans(n_clusters=k, random_state=42)\n",
    "    kmeans.fit(coordinates)\n",
    "    inertias.append(kmeans.inertia_)\n"
   ]
  },
  {
   "cell_type": "code",
   "execution_count": null,
   "id": "12632712",
   "metadata": {},
   "outputs": [],
   "source": [
    "# Plotting the Elbow Method\n",
    "plt.plot(K_range, inertias, marker='o')\n",
    "plt.xlabel('Number of Clusters (k)')\n",
    "plt.ylabel('Inertia')\n",
    "plt.title('Elbow Method for Optimal k in KMeans')\n",
    "plt.show()"
   ]
  },
  {
   "cell_type": "code",
   "execution_count": null,
   "id": "fbefbb2d",
   "metadata": {},
   "outputs": [],
   "source": [
    "# Plotting the k-means clustered data \n",
    "optimal_k = 10  \n",
    "\n",
    "# Apply k-means clustering with the optimal number of clusters\n",
    "for user_id in clean_data['user_id'].unique():\n",
    "    user_data = clean_data[clean_data['user_id'] == user_id].copy()\n",
    "    # Applying k-means clustering\n",
    "    kmeans = KMeans(n_clusters=optimal_k, random_state=42)\n",
    "    user_data.loc[:, 'kmeans_cluster'] = kmeans.fit_predict(user_data[['lat', 'lon']])\n",
    "\n",
    "    kmeans_clustered_data = pd.concat([kmeans_clustered_data, user_data])\n",
    "    \n"
   ]
  },
  {
   "cell_type": "code",
   "execution_count": null,
   "id": "a2cde0a1",
   "metadata": {},
   "outputs": [],
   "source": [
    "# Plotting the k-means clustered data \n",
    "for user_id in kmeans_clustered_data['user_id'].unique():\n",
    "    user_data_kmeans = kmeans_clustered_data[kmeans_clustered_data['user_id'] == user_id]\n",
    "    \n",
    "    plt.figure(figsize=(10, 6))\n",
    "    plt.scatter(user_data_kmeans['lon'], user_data_kmeans['lat'], c=user_data_kmeans['kmeans_cluster'], cmap='viridis', marker='o')\n",
    "    plt.title(f'K-Means Clustered GPS Data - User {user_id}')\n",
    "    plt.xlabel('Longitude')\n",
    "    plt.ylabel('Latitude')\n",
    "    plt.show()"
   ]
  },
  {
   "cell_type": "code",
   "execution_count": null,
   "id": "d3b96bb8",
   "metadata": {},
   "outputs": [],
   "source": [
    "# finding the individual dwells for kmeans\n",
    "# Initialize dictionaries to store dwell frequencies for each user\n",
    "dwell_frequencies_kmeans = defaultdict(list)\n",
    "\n",
    "# Iterate through each user\n",
    "for user_id in kmeans_clustered_data['user_id'].unique():\n",
    "    # Extract data for the current user\n",
    "    user_data_kmeans = kmeans_clustered_data[kmeans_clustered_data['user_id'] == user_id]\n",
    "\n",
    "    # Identify dwell times for each k-means cluster\n",
    "    cluster_counts_kmeans = user_data_kmeans['kmeans_cluster'].value_counts().sort_index()\n",
    "    dwell_frequencies_kmeans[user_id].extend(cluster_counts_kmeans.tolist() + [0] * (num_clusters_kmeans - len(cluster_counts_kmeans)))\n"
   ]
  },
  {
   "cell_type": "code",
   "execution_count": null,
   "id": "7348c364",
   "metadata": {},
   "outputs": [],
   "source": [
    "# Iterate through each user for k-means\n",
    "for user_id in kmeans_clustered_data['user_id'].unique():\n",
    "    # Extract data for the current user\n",
    "    user_data_kmeans = kmeans_clustered_data[kmeans_clustered_data['user_id'] == user_id]\n",
    "\n",
    "    # Update max_clusters_kmeans based on the current user's maximum cluster value\n",
    "    max_clusters_kmeans = max(max_clusters_kmeans, max(user_data_kmeans['kmeans_cluster']) + 1)\n"
   ]
  },
  {
   "cell_type": "code",
   "execution_count": null,
   "id": "c1a13361",
   "metadata": {},
   "outputs": [],
   "source": [
    "# Creating DataFrames to store dwell times for k-means and DBSCAN\n",
    "dwell_times_kmeans = pd.DataFrame.from_dict(dwell_frequencies_kmeans, orient='index').T\n",
    "\n",
    "# Assuming that 'user_id' is a column in your DataFrames\n",
    "dwell_times_kmeans['user_id'] = dwell_times_kmeans.index\n",
    "#calculating the time difference\n",
    "dwell_times_kmeans['time_diff'] = dwell_times_kmeans.groupby('user_id')['datetime'].diff()\n",
    "\n",
    "# Calculating dwell duration for k-means and DBSCAN\n",
    "dwell_times_kmeans['dwell_duration'] = dwell_times_kmeans.max(axis=1) * time_diff\n",
    "\n",
    "# Filtering out clusters representing movement based on minimum dwell duration  \n",
    "valid_dwells_kmeans = dwell_times_kmeans[dwell_times_kmeans['dwell_duration'] >= min_dwell_duration]"
   ]
  },
  {
   "cell_type": "code",
   "execution_count": null,
   "id": "ef4d25ca",
   "metadata": {},
   "outputs": [],
   "source": [
    "\n",
    "for user_id in valid_dwells_kmeans['user_id'].unique():\n",
    "    # Extract valid dwells data for the current user\n",
    "    user_valid_dwells_kmeans = valid_dwells_kmeans[valid_dwells_kmeans['user_id'] == user_id]\n",
    "\n",
    "    # Print estimated individual dwells for the current user using K-Means\n",
    "    print(f\"Estimated Individual Dwells for User {user_id} - K-Means:\")\n",
    "    print(user_valid_dwells_kmeans[['min', 'max', 'dwell_duration']])\n",
    "    print(\"\\n\")"
   ]
  },
  {
   "cell_type": "code",
   "execution_count": null,
   "id": "3999663f",
   "metadata": {},
   "outputs": [],
   "source": [
    "# Printing dwell duration statistics for K-Means\n",
    "print(\"Dwell Duration Statistics - K-Means:\")\n",
    "print(valid_dwells_kmeans['dwell_duration'].describe())\n"
   ]
  },
  {
   "cell_type": "code",
   "execution_count": null,
   "id": "2c6a8c33",
   "metadata": {},
   "outputs": [],
   "source": [
    "# Exploration of patterns and frequencies\n",
    "\n",
    "#Plotting distribution of data among different clusters for K-Means\n",
    "\n",
    "for user_id in kmeans_clustered_data['user_id'].unique():\n",
    "    # Extracting data for the current user\n",
    "    user_data_kmeans = kmeans_clustered_data[kmeans_clustered_data['user_id'] == user_id]\n",
    "\n",
    "    plt.figure(figsize=(12, 6))\n",
    "    sns.countplot(x='kmeans_cluster', data=user_data_kmeans)\n",
    "    plt.title(f'Cluster Frequencies - User {user_id} (K-Means)')\n",
    "    plt.xlabel('Cluster')\n",
    "    plt.ylabel('Frequency')\n",
    "    plt.show()"
   ]
  },
  {
   "cell_type": "code",
   "execution_count": null,
   "id": "d7135d64",
   "metadata": {},
   "outputs": [],
   "source": [
    "#Plotting distribution of data among different clusters for DBSCAN\n",
    "for user_id in dbscan_clustered_data['user_id'].unique():\n",
    "    # Extracting data for the current user\n",
    "    user_data_dbscan = dbscan_clustered_data[dbscan_clustered_data['user_id'] == user_id]\n",
    "\n",
    "    plt.figure(figsize=(9, 6))\n",
    "    sns.countplot(x='dbscan_cluster', data=user_data_dbscan)\n",
    "    plt.title(f'Cluster Frequencies - User {user_id} (DBSCAN)')\n",
    "    plt.xlabel('Cluster')\n",
    "    plt.ylabel('Frequency')\n",
    "    plt.show()"
   ]
  },
  {
   "cell_type": "code",
   "execution_count": null,
   "id": "54e52d1d",
   "metadata": {},
   "outputs": [],
   "source": [
    "# Exploring the dwell durations\n",
    "# Plotting the dwell durations for K-Means clusters\n",
    "for user_id in kmeans_clustered_data['user_id'].unique():\n",
    "    # Extract data for the current user\n",
    "    user_data_kmeans = kmeans_clustered_data[kmeans_clustered_data['user_id'] == user_id]\n",
    "\n",
    "    # Calculating dwell durations for K-Means clusters\n",
    "    dwell_times_kmeans = user_data_kmeans.groupby('kmeans_cluster')['datetime'].agg(['min', 'max'])\n",
    "    dwell_times_kmeans['dwell_duration'] = (dwell_times_kmeans['max'] - dwell_times_kmeans['min']).dt.total_seconds() / 60\n",
    "\n",
    "    plt.figure(figsize=(12, 6))\n",
    "    sns.barplot(x=dwell_times_kmeans.index, y='dwell_duration', data=dwell_times_kmeans)\n",
    "    plt.title(f'Dwell Durations - User {user_id} (K-Means)')\n",
    "    plt.xlabel('Cluster')\n",
    "    plt.ylabel('Dwell Duration (minutes)')\n",
    "    plt.show()"
   ]
  },
  {
   "cell_type": "code",
   "execution_count": null,
   "id": "958bccd6",
   "metadata": {},
   "outputs": [],
   "source": [
    "# Plotting the dwell durations for DBSCAN clusters\n",
    "for user_id in dbscan_clustered_data['user_id'].unique():\n",
    "    # Extracting data for the current user\n",
    "    user_data_dbscan = dbscan_clustered_data[dbscan_clustered_data['user_id'] == user_id]\n",
    "\n",
    "    # Calculating dwell durations for DBSCAN clusters\n",
    "    dwell_times_dbscan = user_data_dbscan.groupby('dbscan_cluster')['datetime'].agg(['min', 'max'])\n",
    "    dwell_times_dbscan['dwell_duration'] = (dwell_times_dbscan['max'] - dwell_times_dbscan['min']).dt.total_seconds() / 60\n",
    "\n",
    "    plt.figure(figsize=(9, 6))\n",
    "    sns.barplot(x=dwell_times_dbscan.index, y='dwell_duration', data=dwell_times_dbscan)\n",
    "    plt.title(f'Dwell Durations - User {user_id} (DBSCAN)')\n",
    "    plt.xlabel('Cluster')\n",
    "    plt.ylabel('Dwell Duration (minutes)')\n",
    "    plt.show()"
   ]
  },
  {
   "cell_type": "code",
   "execution_count": null,
   "id": "495e3b95",
   "metadata": {},
   "outputs": [],
   "source": [
    "# Plotting dwell durations distribution for Kmeans\n",
    "for user_id in valid_dwells_kmeans['user_id'].unique():\n",
    "    # Extracting valid dwell durations data for the current user using K-Means\n",
    "    user_valid_dwells_kmeans = valid_dwells_kmeans[valid_dwells_kmeans['user_id'] == user_id]\n",
    "\n",
    "    plt.figure(figsize=(10, 4))\n",
    "    plt.hist(user_valid_dwells_kmeans['dwell_duration'].dt.total_seconds() / 60, bins=20, color='blue', alpha=0.7)\n",
    "    plt.title(f'Dwell Durations Distribution - User {user_id} - K-Means')\n",
    "    plt.xlabel('Dwell Duration (minutes)')\n",
    "    plt.ylabel('Frequency')\n",
    "    plt.show()"
   ]
  },
  {
   "cell_type": "code",
   "execution_count": null,
   "id": "cda0e0ea",
   "metadata": {},
   "outputs": [],
   "source": [
    "# Plotting dwell durations distribution for DBSCAN\n",
    "for user_id in valid_dwells_dbscan['user_id'].unique():\n",
    "    # Extract valid dwell durations data for the current user using DBSCAN\n",
    "    user_valid_dwells_dbscan = valid_dwells_dbscan[valid_dwells_dbscan['user_id'] == user_id]\n",
    "\n",
    "    plt.figure(figsize=(10, 4))\n",
    "    plt.hist(user_valid_dwells_dbscan['dwell_duration'].dt.total_seconds() / 60, bins=20, color='green', alpha=0.7)\n",
    "    plt.title(f'Dwell Durations Distribution - User {user_id} - DBSCAN')\n",
    "    plt.xlabel('Dwell Duration (minutes)')\n",
    "    plt.ylabel('Frequency')\n",
    "    plt.show()"
   ]
  },
  {
   "cell_type": "code",
   "execution_count": null,
   "id": "90e97fce",
   "metadata": {},
   "outputs": [],
   "source": [
    "# Plot dwell duration vs. time of day for k-means\n",
    "for user_id in valid_dwells_kmeans['user_id'].unique():\n",
    "    # Extract valid dwell durations data for the current user using K-Means\n",
    "    user_valid_dwells_kmeans = valid_dwells_kmeans[valid_dwells_kmeans['user_id'] == user_id]\n",
    "\n",
    "    plt.figure(figsize=(12, 6))\n",
    "    plt.scatter(user_valid_dwells_kmeans['min'], user_valid_dwells_kmeans['dwell_duration'].dt.total_seconds() / 60, color='blue', alpha=0.7)\n",
    "    plt.title(f'Dwell Duration vs. Time of Day - User {user_id} - K-Means')\n",
    "    plt.xlabel('Time of Day')\n",
    "    plt.ylabel('Dwell Duration (minutes)')\n",
    "    plt.show()\n"
   ]
  },
  {
   "cell_type": "code",
   "execution_count": null,
   "id": "edb5a526",
   "metadata": {},
   "outputs": [],
   "source": [
    "# Plotting dwell duration vs. time of day for DBSCAN\n",
    "for user_id in valid_dwells_dbscan['user_id'].unique():\n",
    "    # Extract valid dwell durations data for the current user using DBSCAN\n",
    "    user_valid_dwells_dbscan = valid_dwells_dbscan[valid_dwells_dbscan['user_id'] == user_id]\n",
    "\n",
    "    plt.figure(figsize=(12, 6))\n",
    "    plt.scatter(user_valid_dwells_dbscan['min'], user_valid_dwells_dbscan['dwell_duration'].dt.total_seconds() / 60, color='green', alpha=0.7)\n",
    "    plt.title(f'Dwell Duration vs. Time of Day - User {user_id} - DBSCAN')\n",
    "    plt.xlabel('Time of Day')\n",
    "    plt.ylabel('Dwell Duration (minutes)')\n",
    "    plt.show()\n"
   ]
  },
  {
   "cell_type": "code",
   "execution_count": null,
   "id": "fa7a9d13",
   "metadata": {},
   "outputs": [],
   "source": [
    "# Plotting daily variation of GPS points for K-Means\n",
    "# Set the style for the plots\n",
    "sns.set(style=\"whitegrid\")\n",
    "\n",
    "# Iterate through each user for K-Means\n",
    "for user_id in kmeans_clustered_data['user_id'].unique():\n",
    "    user_data_kmeans = kmeans_clustered_data[kmeans_clustered_data['user_id'] == user_id]\n",
    "    \n",
    "    plt.figure(figsize=(12, 6))\n",
    "    sns.scatterplot(x='datetime', y='lat', hue='kmeans_cluster', data=user_data_kmeans)\n",
    "    plt.title(f'Daily Variation of GPS Points - User {user_id} - K-Means')\n",
    "    plt.xlabel('Date and Time')\n",
    "    plt.ylabel('Latitude')\n",
    "    plt.legend(title='K-Means Cluster')\n",
    "    plt.show()"
   ]
  },
  {
   "cell_type": "code",
   "execution_count": null,
   "id": "a8cdac3d",
   "metadata": {},
   "outputs": [],
   "source": [
    "# Plotting daily variation of GPS points for DBSCAN\n",
    "for user_id in dbscan_clustered_data['user_id'].unique():\n",
    "    user_data_dbscan = dbscan_clustered_data[dbscan_clustered_data['user_id'] == user_id]\n",
    "    \n",
    "    # Plot daily variation of GPS points for DBSCAN\n",
    "    plt.figure(figsize=(12, 6))\n",
    "    sns.scatterplot(x='datetime', y='lat', hue='dbscan_cluster', data=user_data_dbscan)\n",
    "    plt.title(f'Daily Variation of GPS Points - User {user_id} - DBSCAN')\n",
    "    plt.xlabel('Date and Time')\n",
    "    plt.ylabel('Latitude')\n",
    "    plt.legend(title='DBSCAN Cluster')\n",
    "    plt.show()"
   ]
  },
  {
   "cell_type": "code",
   "execution_count": null,
   "id": "28bfa091",
   "metadata": {},
   "outputs": [],
   "source": [
    "# Plotting dwell durations by day of the week for K-Means\n",
    "for user_id in valid_dwells_kmeans['user_id'].unique():\n",
    "    # Extract valid dwell durations data for the current user using K-Means\n",
    "    user_valid_dwells_kmeans = valid_dwells_kmeans[valid_dwells_kmeans['user_id'] == user_id]\n",
    "\n",
    "    # Plot dwell durations by day of the week for K-Means\n",
    "    plt.figure(figsize=(12, 6))\n",
    "    sns.boxplot(x=user_valid_dwells_kmeans['min'].dt.day_name(), y=user_valid_dwells_kmeans['dwell_duration'].dt.total_seconds() / 60, color='blue')\n",
    "    plt.title(f'Dwell Durations by Day of the Week - User {user_id} - K-Means')\n",
    "    plt.xlabel('Day of the Week')\n",
    "    plt.ylabel('Dwell Duration (minutes)')\n",
    "    plt.show()\n",
    "    "
   ]
  },
  {
   "cell_type": "code",
   "execution_count": null,
   "id": "49a8d17d",
   "metadata": {},
   "outputs": [],
   "source": [
    "# Plotting dwell durations by day of the week for DBSCAN\n",
    "for user_id in valid_dwells_dbscan['user_id'].unique():\n",
    "    # Extract valid dwell durations data for the current user using DBSCAN\n",
    "    user_valid_dwells_dbscan = valid_dwells_dbscan[valid_dwells_dbscan['user_id'] == user_id]\n",
    "\n",
    "    # Plot dwell durations by day of the week for DBSCAN\n",
    "    plt.figure(figsize=(12, 6))\n",
    "    sns.boxplot(x=user_valid_dwells_dbscan['min'].dt.day_name(), y=user_valid_dwells_dbscan['dwell_duration'].dt.total_seconds() / 60, color='green')\n",
    "    plt.title(f'Dwell Durations by Day of the Week - User {user_id} - DBSCAN')\n",
    "    plt.xlabel('Day of the Week')\n",
    "    plt.ylabel('Dwell Duration (minutes)')\n",
    "    plt.show()\n"
   ]
  },
  {
   "cell_type": "code",
   "execution_count": null,
   "id": "26dd7731",
   "metadata": {},
   "outputs": [],
   "source": [
    "# Plotting dwell frequencies by user for K-Means\n",
    "plt.figure(figsize=(12, 8))\n",
    "for i, user_dwell_freq_kmeans in enumerate(dwell_frequencies_kmeans):\n",
    "    user_id = clean_data['user_id'].unique()[i]\n",
    "    \n",
    "    # Check if user_dwell_freq_kmeans is a single integer\n",
    "    if isinstance(user_dwell_freq_kmeans, int):\n",
    "        user_dwell_freq_kmeans = [user_dwell_freq_kmeans]\n",
    "    \n",
    "    plt.bar(np.arange(len(user_dwell_freq_kmeans)) + i * 0.2, user_dwell_freq_kmeans, width=0.2, label=f'User {user_id}')\n",
    "\n",
    "plt.xlabel('K-Means Clusters')\n",
    "plt.ylabel('Dwell Frequency')\n",
    "plt.title('Dwell Frequencies by User for K-Means')\n",
    "plt.legend()\n",
    "plt.show()\n"
   ]
  },
  {
   "cell_type": "code",
   "execution_count": null,
   "id": "eb5524eb",
   "metadata": {},
   "outputs": [],
   "source": [
    "# Plotting dwell frequencies by user for DBSCAN\n",
    "plt.figure(figsize=(12, 8))\n",
    "for i, user_dwell_freq_dbscan in enumerate(dwell_frequencies_dbscan):\n",
    "    user_id = clean_data['user_id'].unique()[i]\n",
    "    \n",
    "    # Check if user_dwell_freq_dbscan is a single integer\n",
    "    if isinstance(user_dwell_freq_dbscan, int):\n",
    "        user_dwell_freq_dbscan = [user_dwell_freq_dbscan]\n",
    "    \n",
    "    plt.bar(np.arange(len(user_dwell_freq_dbscan)) + i * 0.2, user_dwell_freq_dbscan, width=0.2, label=f'User {user_id}')\n",
    "\n",
    "plt.xlabel('DBSCAN Clusters')\n",
    "plt.ylabel('Dwell Frequency')\n",
    "plt.title('Dwell Frequencies by User for DBSCAN')\n",
    "plt.legend()\n",
    "plt.show()\n"
   ]
  },
  {
   "cell_type": "code",
   "execution_count": null,
   "id": "239e1f33",
   "metadata": {},
   "outputs": [],
   "source": [
    "# Plotting the dwell frequencies by cluster for K-Means\n",
    "# Function to pad lists with zeros\n",
    "def pad_with_zeros(lst, target_length):\n",
    "    return lst if isinstance(lst, list) else [lst] + [0] * (target_length - 1)\n",
    "\n",
    "# Find the maximum length among all dwell frequency lists\n",
    "max_length_kmeans = max(len(lst) if isinstance(lst, list) else 1 for lst in dwell_frequencies_kmeans)\n",
    "max_length_dbscan = max(len(lst) if isinstance(lst, list) else 1 for lst in dwell_frequencies_dbscan)\n",
    "\n",
    "# Pad all lists with zeros to the maximum length\n",
    "dwell_frequencies_kmeans_padded = [pad_with_zeros(lst, max_length_kmeans) for lst in dwell_frequencies_kmeans]\n",
    "dwell_frequencies_dbscan_padded = [pad_with_zeros(lst, max_length_dbscan) for lst in dwell_frequencies_dbscan]\n",
    "\n",
    "# Aggregate dwell frequencies for K-Means across all users\n",
    "dwell_frequencies_kmeans_agg = np.array(dwell_frequencies_kmeans_padded).sum(axis=0)\n",
    "\n",
    "plt.figure(figsize=(10, 6))\n",
    "plt.bar(np.arange(len(dwell_frequencies_kmeans_agg)), dwell_frequencies_kmeans_agg, width=0.4, label='K-Means')\n",
    "plt.xlabel('K-Means Clusters')\n",
    "plt.ylabel('Total Dwell Frequency')\n",
    "plt.title('Aggregated Dwell Frequencies by Cluster for K-Means')  # Updated title\n",
    "plt.legend()\n",
    "plt.show()\n"
   ]
  },
  {
   "cell_type": "code",
   "execution_count": null,
   "id": "f05eaf0e",
   "metadata": {},
   "outputs": [],
   "source": [
    "# Plotting dwell frequencies by cluster for DBSCAN\n",
    "# Function to pad lists with zeros\n",
    "def pad_with_zeros(lst, target_length):\n",
    "    return lst if isinstance(lst, list) else [lst] + [0] * (target_length - 1)\n",
    "\n",
    "# Find the maximum length among all DBSCAN dwell frequency lists\n",
    "max_length_dbscan = max(len(lst) if isinstance(lst, list) else 1 for lst in dwell_frequencies_dbscan)\n",
    "\n",
    "# Pad all DBSCAN lists with zeros to the maximum length\n",
    "dwell_frequencies_dbscan_padded = [pad_with_zeros(lst, max_length_dbscan) for lst in dwell_frequencies_dbscan]\n",
    "\n",
    "# Aggregate dwell frequencies for DBSCAN across all users\n",
    "dwell_frequencies_dbscan_agg = np.zeros(max_length_dbscan)\n",
    "\n",
    "for lst in dwell_frequencies_dbscan_padded:\n",
    "    pad_length = max_length_dbscan - len(lst)\n",
    "    lst_padded = np.pad(np.array(lst), (0, pad_length), 'constant', constant_values=(0))\n",
    "    dwell_frequencies_dbscan_agg = np.add(dwell_frequencies_dbscan_agg, lst_padded)\n",
    "\n",
    "plt.figure(figsize=(10, 6))\n",
    "plt.bar(np.arange(len(dwell_frequencies_dbscan_agg)), dwell_frequencies_dbscan_agg, width=0.4, label='DBSCAN', color='orange')\n",
    "plt.xlabel('DBSCAN Clusters')\n",
    "plt.ylabel('Total Dwell Frequency')\n",
    "plt.title('Dwell Frequencies by Cluster for DBSCAN')\n",
    "plt.legend()\n",
    "plt.show()\n"
   ]
  },
  {
   "cell_type": "code",
   "execution_count": null,
   "id": "ce8e89c4",
   "metadata": {},
   "outputs": [],
   "source": [
    "# Plotting a boxplot for KMeans\n",
    "# Transposing the dwell_frequencies_kmeans_padded to have clusters as rows\n",
    "dwell_frequencies_kmeans_transposed = np.array(dwell_frequencies_kmeans_padded).T\n",
    "\n",
    "# Ensure that each sublist in dwell_frequencies_kmeans_transposed is a 1D array\n",
    "dwell_frequencies_kmeans_transposed = [np.array(lst) for lst in dwell_frequencies_kmeans_transposed]\n",
    "\n",
    "plt.figure(figsize=(10, 6))\n",
    "plt.boxplot(dwell_frequencies_kmeans_transposed, labels=[f'Cluster {i+1}' for i in range(len(dwell_frequencies_kmeans_transposed))])\n",
    "plt.xlabel('K-Means Clusters')\n",
    "plt.ylabel('Dwell Frequency')\n",
    "plt.title('Boxplot of Dwell Frequencies for K-Means')\n",
    "plt.show()\n"
   ]
  },
  {
   "cell_type": "code",
   "execution_count": null,
   "id": "f57b9c0d",
   "metadata": {},
   "outputs": [],
   "source": [
    "# Plotting a boxplot for DBSCAN\n",
    "# Transposing the dwell_frequencies_dbscan_padded to have clusters as rows\n",
    "dwell_frequencies_dbscan_transposed = np.array(dwell_frequencies_dbscan_padded).T\n",
    "\n",
    "# Ensure that each sublist in dwell_frequencies_dbscan_transposed is a 1D array\n",
    "dwell_frequencies_dbscan_transposed = [np.array(lst) for lst in dwell_frequencies_dbscan_transposed]\n",
    "\n",
    "plt.figure(figsize=(10, 6))\n",
    "plt.boxplot(dwell_frequencies_dbscan_transposed, labels=[f'Cluster {i+1}' for i in range(len(dwell_frequencies_dbscan_transposed))], patch_artist=True, boxprops=dict(facecolor='orange', color='black'))\n",
    "plt.xlabel('DBSCAN Clusters')\n",
    "plt.ylabel('Dwell Frequency')\n",
    "plt.title('Boxplot of Dwell Frequencies for DBSCAN')\n",
    "plt.show()\n"
   ]
  }
 ],
 "metadata": {
  "kernelspec": {
   "display_name": "Python 3 (ipykernel)",
   "language": "python",
   "name": "python3"
  },
  "language_info": {
   "codemirror_mode": {
    "name": "ipython",
    "version": 3
   },
   "file_extension": ".py",
   "mimetype": "text/x-python",
   "name": "python",
   "nbconvert_exporter": "python",
   "pygments_lexer": "ipython3",
   "version": "3.11.4"
  }
 },
 "nbformat": 4,
 "nbformat_minor": 5
}
